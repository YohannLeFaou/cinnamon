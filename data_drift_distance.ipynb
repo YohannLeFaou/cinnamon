{
 "cells": [
  {
   "cell_type": "code",
   "execution_count": 1,
   "id": "c7d09151",
   "metadata": {},
   "outputs": [],
   "source": [
    "path_data = 'data/'"
   ]
  },
  {
   "cell_type": "code",
   "execution_count": 2,
   "id": "dea05f6b",
   "metadata": {},
   "outputs": [],
   "source": [
    "from catboost import CatBoostClassifier, Pool\n",
    "import pickle as pkl\n",
    "import matplotlib.pyplot as plt\n",
    "import numpy as np\n",
    "\n",
    "from scipy.stats import wasserstein_distance\n",
    "\n",
    "\n",
    "%matplotlib inline"
   ]
  },
  {
   "cell_type": "code",
   "execution_count": 3,
   "id": "abfb66d2",
   "metadata": {},
   "outputs": [],
   "source": [
    "with open(path_data + 'train_random_split.pkl', 'rb') as f:\n",
    "    train = pkl.load(f)\n",
    "    \n",
    "with open(path_data + 'valid_random_split.pkl', 'rb') as f:\n",
    "    valid = pkl.load(f)\n",
    "    \n",
    "with open(path_data + 'test_random_split.pkl', 'rb') as f:\n",
    "    test = pkl.load(f)\n"
   ]
  },
  {
   "cell_type": "code",
   "execution_count": 4,
   "id": "f9a69e34",
   "metadata": {},
   "outputs": [],
   "source": [
    "clf = CatBoostClassifier().load_model('models/model_random_split')"
   ]
  },
  {
   "cell_type": "code",
   "execution_count": 5,
   "id": "d84260b8",
   "metadata": {},
   "outputs": [],
   "source": [
    "num_features = [\n",
    "    'caseData_life_BLOOD_PRESSURE_SYSTOLIC',\n",
    "    'caseData_life_BLOOD_PRESSURE_DIASTOLIC',\n",
    " 'caseData_life_AGE',\n",
    " 'caseData_life_BMI',\n",
    " 'caseData_life_WEIGHT',\n",
    " 'caseData_life_HEIGHT',\n",
    " 'caseData_life_TOTAL_CUMULATED_SUM_DC_PTIA_ACC',\n",
    " 'caseData_life_TOTAL_CUMULATED_SUM_DC_PTIA_AM',\n",
    " 'caseData_life_TOTAL_CUMULATED_SUM_IT_ACC',\n",
    " 'caseData_life_TOTAL_CUMULATED_SUM_IT_AM',\n",
    " 'ratio_poids_taille',\n",
    " 'non_all_questions']\n",
    "\n",
    "cat_features = ['caseData_case_CLIENT_PROCESS',\n",
    " 'caseData_case_PRODUCT_NAME',\n",
    " 'caseData_case_CHANNEL',\n",
    " 'caseData_life_GENDER',\n",
    " 'caseData_life_TITLE',\n",
    " 'caseData_life_SMOKED_BQ',\n",
    " 'caseData_case_INSTITUTION_CODE',\n",
    " 'caseData_EQUIPMENT_CONTRACT0_OTHER_CONTRACT_RISK_NAME',\n",
    " 'caseData_EQUIPMENT_CONTRACT0_NAME',\n",
    " 'caseData_EQUIPMENT_CONTRACT0_OTHER_CONTRACT_CAUSE',\n",
    " 'caseData_EQUIPMENT_CONTRACT0_OTHER_CONTRACT_RISK_TYPE',\n",
    " 'caseData_EQUIPMENT_CONTRACT0_OTHER_CONTRACT_STATUS',\n",
    " 'caseData_EQUIPMENT_CONTRACT0_OTHER_CONTRACT_STATUS_TITLE',\n",
    " 'caseData_life_RISK_TYPES',\n",
    " 'caseData_life_UNDERWRITING_APPLICATION',\n",
    " 'caseData_case_CERAMIKPRO_FRUCTIPRO',\n",
    " 'caseData_life_aggDC_PTIA_CAUSE',\n",
    " 'caseData_life_aggDC_PTIA_RISK_NAME',\n",
    " 'caseData_life_BLOOD_PRESSURE',\n",
    " 'caseData_life_UNDER_TREATMENT',\n",
    " 'underwriting_life_unansweredQuestions',\n",
    " 'caseData_case_INSTITUTION',\n",
    " 'Q_PY_BQ1_',\n",
    " 'Q_PY_BQ2_',\n",
    " 'Q_PY_BQ3_',\n",
    " 'Q_PY_BQ4_',\n",
    " 'Q_ADD_MED_INFO_BQ1_',\n",
    " 'Q_ADD_MED_INFO_BQ2_',\n",
    " 'Q_ADD_INFO_MED_BQ3_',\n",
    " 'Q_ADD_INFO_MED_BQ4_',\n",
    " 'Q_OVER10Y_SEC1_BQ1_',\n",
    " 'Q_OVER10Y_SEC1_BQ2_',\n",
    " 'Q_OVER10Y_SEC1_BQ3_',\n",
    " 'Q_OVER10Y_SEC1_BQ4_',\n",
    " 'Q_OVER10Y_SEC1_BQ5_',\n",
    " 'Q_OVER10Y_SEC2BQ1_',\n",
    " 'Q_OVER10Y_SEC2BQ2_',\n",
    " 'Q_OVER10Y_SEC2BQ3_',\n",
    " 'Q_OVER10Y_SEC2BQ4_',\n",
    " 'Q_OVER10Y_SEC2BQ5_',\n",
    " 'Q_OVER10Y_SEC2BQ6_',\n",
    " 'Q_OVER10Y_SEC2BQ7_',\n",
    " 'Q_OVER10Y_SEC2BQ8_',\n",
    " 'Q_OVER10Y_SEC2BQ9_',\n",
    " 'Q_OVER10Y_SEC2BQ10_']\n",
    "\n",
    "nlp_te_FEATURES = ['concat_question_sup_1years_nlp_te_acc',\n",
    " 'concat_question_sup_1years_nlp_te_ref',\n",
    " 'concat_question_sup_1years_nlp_te_cs',\n",
    " 'concat_question_sup_add_info_nlp_te_acc',\n",
    " 'concat_question_sup_add_info_nlp_te_ref',\n",
    " 'concat_question_sup_add_info_nlp_te_cs',\n",
    " 'concat_question_sup_10years_nlp_te_acc',\n",
    " 'concat_question_sup_10years_nlp_te_ref',\n",
    " 'concat_question_sup_10years_nlp_te_cs']"
   ]
  },
  {
   "cell_type": "code",
   "execution_count": 6,
   "id": "c4f7f0fa",
   "metadata": {},
   "outputs": [
    {
     "data": {
      "text/plain": [
       "(9061, 66)"
      ]
     },
     "execution_count": 6,
     "metadata": {},
     "output_type": "execute_result"
    }
   ],
   "source": [
    "test.shape"
   ]
  },
  {
   "cell_type": "code",
   "execution_count": 7,
   "id": "7cc4322d",
   "metadata": {},
   "outputs": [],
   "source": [
    "preds_test = clf.predict(Pool(test[num_features + cat_features + nlp_te_FEATURES], cat_features=cat_features),\n",
    "            prediction_type='RawFormulaVal')\n",
    "\n",
    "preds_valid = clf.predict(Pool(valid[num_features + cat_features + nlp_te_FEATURES], cat_features=cat_features),\n",
    "            prediction_type='RawFormulaVal')"
   ]
  },
  {
   "cell_type": "code",
   "execution_count": 8,
   "id": "60179e32",
   "metadata": {},
   "outputs": [
    {
     "data": {
      "image/png": "[encoded data removed]",
      "text/plain": [
       "<Figure size 432x288 with 1 Axes>"
      ]
     },
     "metadata": {
      "needs_background": "light"
     },
     "output_type": "display_data"
    }
   ],
   "source": [
    "plt.hist(preds_valid[:, 0], bins=100, density=True, alpha=0.3)\n",
    "plt.hist(preds_test[:, 0], bins=100, density=True, alpha=0.3)\n",
    "plt.legend(['valid', 'test'])\n",
    "plt.show()"
   ]
  },
  {
   "cell_type": "code",
   "execution_count": 9,
   "id": "019f475a",
   "metadata": {},
   "outputs": [
    {
     "data": {
      "text/plain": [
       "0.5752393825320847"
      ]
     },
     "execution_count": 9,
     "metadata": {},
     "output_type": "execute_result"
    }
   ],
   "source": [
    "wasserstein_distance(preds_test[:, 0], preds_valid[:, 0])"
   ]
  },
  {
   "cell_type": "code",
   "execution_count": 10,
   "id": "68cdaf70",
   "metadata": {},
   "outputs": [],
   "source": [
    "def compute_probs(data, n=10): \n",
    "    h, e = np.histogram(data, n)\n",
    "    p = h/data.shape[0]\n",
    "    return e, p\n",
    "\n",
    "def support_intersection(p, q): \n",
    "    sup_int = (\n",
    "        list(\n",
    "            filter(\n",
    "                lambda x: (x[0]!=0) & (x[1]!=0), zip(p, q)\n",
    "            )\n",
    "        )\n",
    "    )\n",
    "    return sup_int\n",
    "\n",
    "def get_probs(list_of_tuples): \n",
    "    p = np.array([p[0] for p in list_of_tuples])\n",
    "    q = np.array([p[1] for p in list_of_tuples])\n",
    "    return p, q\n",
    "\n",
    "def kl_divergence(p, q): \n",
    "    return np.sum(p*np.log(p/q))\n",
    "\n",
    "def js_divergence(p, q):\n",
    "    m = (1./2.)*(p + q)\n",
    "    return (1./2.)*kl_divergence(p, m) + (1./2.)*kl_divergence(q, m)\n",
    "\n",
    "def compute_kl_divergence(train_sample, test_sample, n_bins=10): \n",
    "    \"\"\"\n",
    "    Computes the KL Divergence using the support \n",
    "    intersection between two different samples\n",
    "    \"\"\"\n",
    "    e, p = compute_probs(train_sample, n=n_bins)\n",
    "    _, q = compute_probs(test_sample, n=e)\n",
    "\n",
    "    list_of_tuples = support_intersection(p, q)\n",
    "    p, q = get_probs(list_of_tuples)\n",
    "    \n",
    "    return kl_divergence(p, q)\n",
    "\n",
    "def compute_js_divergence(train_sample, test_sample, n_bins=10): \n",
    "    \"\"\"\n",
    "    Computes the JS Divergence using the support \n",
    "    intersection between two different samples\n",
    "    \"\"\"\n",
    "    e, p = compute_probs(train_sample, n=n_bins)\n",
    "    _, q = compute_probs(test_sample, n=e)\n",
    "    \n",
    "    list_of_tuples = support_intersection(p,q)\n",
    "    p, q = get_probs(list_of_tuples)\n",
    "    \n",
    "    return js_divergence(p, q)"
   ]
  },
  {
   "cell_type": "code",
   "execution_count": 11,
   "id": "2338e28d",
   "metadata": {},
   "outputs": [
    {
     "data": {
      "text/plain": [
       "0.05711566069485982"
      ]
     },
     "execution_count": 11,
     "metadata": {},
     "output_type": "execute_result"
    }
   ],
   "source": [
    "compute_kl_divergence(preds_test[:, 0], preds_valid[:, 0])"
   ]
  },
  {
   "cell_type": "code",
   "execution_count": 12,
   "id": "1234b1a2",
   "metadata": {},
   "outputs": [
    {
     "data": {
      "text/plain": [
       "0.06422374089600394"
      ]
     },
     "execution_count": 12,
     "metadata": {},
     "output_type": "execute_result"
    }
   ],
   "source": [
    "compute_kl_divergence(preds_valid[:, 0], preds_test[:, 0])"
   ]
  },
  {
   "cell_type": "code",
   "execution_count": 26,
   "id": "55170206",
   "metadata": {},
   "outputs": [
    {
     "data": {
      "text/plain": [
       "True"
      ]
     },
     "execution_count": 26,
     "metadata": {},
     "output_type": "execute_result"
    }
   ],
   "source": [
    "np.array([True, False, False]).any()"
   ]
  },
  {
   "cell_type": "code",
   "execution_count": 22,
   "id": "2966418f",
   "metadata": {},
   "outputs": [
    {
     "data": {
      "text/plain": [
       "N124FV    1404\n",
       "N124FY     562\n",
       "N124FZ     278\n",
       "N124AB     170\n",
       "N124GF      60\n",
       "N124GG      27\n",
       "N124CV      18\n",
       "N124HO       8\n",
       "N124EI       7\n",
       "N124SH       5\n",
       "N124AE       4\n",
       "N124PR       3\n",
       "N124GD       1\n",
       "N124HD       1\n",
       "N124AK       1\n",
       "Name: caseData_case_PRODUCT_NAME, dtype: int64"
      ]
     },
     "execution_count": 22,
     "metadata": {},
     "output_type": "execute_result"
    }
   ],
   "source": []
  },
  {
   "cell_type": "code",
   "execution_count": 39,
   "id": "b6e991ea",
   "metadata": {},
   "outputs": [],
   "source": [
    "a = np.unique(valid['caseData_case_CLIENT_PROCESS'])"
   ]
  },
  {
   "cell_type": "code",
   "execution_count": 40,
   "id": "1f476201",
   "metadata": {},
   "outputs": [
    {
     "data": {
      "text/plain": [
       "['DIGITAL', 'PAPIER']"
      ]
     },
     "execution_count": 40,
     "metadata": {},
     "output_type": "execute_result"
    }
   ],
   "source": [
    "a.tolist()"
   ]
  },
  {
   "cell_type": "code",
   "execution_count": 43,
   "id": "aafa0b17",
   "metadata": {},
   "outputs": [
    {
     "data": {
      "text/plain": [
       "Non   -0.9643\n",
       "Oui   -0.0357\n",
       "Name: Q_ADD_MED_INFO_BQ1_, dtype: float64"
      ]
     },
     "execution_count": 43,
     "metadata": {},
     "output_type": "execute_result"
    }
   ],
   "source": [
    "- valid['Q_ADD_MED_INFO_BQ1_'].value_counts(normalize=True)"
   ]
  },
  {
   "cell_type": "code",
   "execution_count": 42,
   "id": "d6d0da97",
   "metadata": {},
   "outputs": [
    {
     "data": {
      "text/plain": [
       "Non    0.9643\n",
       "Oui    0.0357\n",
       "Name: Q_ADD_MED_INFO_BQ1_, dtype: float64"
      ]
     },
     "execution_count": 42,
     "metadata": {},
     "output_type": "execute_result"
    }
   ],
   "source": [
    "abs(- valid['Q_ADD_MED_INFO_BQ1_'].value_counts(normalize=True))"
   ]
  },
  {
   "cell_type": "code",
   "execution_count": 43,
   "id": "ae162178",
   "metadata": {},
   "outputs": [],
   "source": [
    "\n",
    "def compute_distribution_cat(a1: np.array, a2: np.array, sample_weights1=None, sample_weights2=None):\n",
    "    if sample_weights1 is None:\n",
    "        sample_weights1 = np.ones_like(a1)\n",
    "    if sample_weights2 is None:\n",
    "        sample_weights2 = np.ones_like(a2)\n",
    "    unique_cat1 = np.unique(a1).tolist()\n",
    "    unique_cat2 = np.unique(a2).tolist()\n",
    "    unique_cat = unique_cat1 + [cat for cat in unique_cat2 if cat not in unique_cat1]\n",
    "    total_weight1 = np.sum(sample_weights1)\n",
    "    total_weight2 = np.sum(sample_weights2)\n",
    "    distrib = {}\n",
    "    for cat in unique_cat:\n",
    "        distrib[cat] = [np.sum(sample_weights1[a1 == cat]) / total_weight1,\n",
    "                        np.sum(sample_weights2[a2 == cat]) / total_weight2]\n",
    "    return distrib\n",
    "\n",
    "def plot_drift_cat(a1: np.array, a2: np.array, sample_weights1=None, sample_weights2=None, title=None):\n",
    "    # compute both distributions\n",
    "    distrib = compute_distribution_cat(a1, a2, sample_weights1, sample_weights2)\n",
    "    bar_height = np.array([v for v in distrib.values()]) # len(distrib) rows and 2 columns\n",
    "\n",
    "    #plot\n",
    "    index = np.arange(len(distrib))\n",
    "    bar_width = 0.35\n",
    "    fig, ax = plt.subplots(figsize=(10, 6))\n",
    "    ax.bar(index, bar_height[:, 0], bar_width, label=\"Dataset 1\")\n",
    "    ax.bar(index+bar_width, bar_height[:, 1], bar_width, label=\"Dataset 2\")\n",
    "\n",
    "    ax.set_xlabel('Category')\n",
    "    ax.set_ylabel('Percent')\n",
    "    ax.set_title(title)\n",
    "    ax.set_xticks(index + bar_width / 2)\n",
    "    ax.set_xticklabels(list(distrib.keys()), rotation=30)\n",
    "    ax.legend()\n",
    "    plt.show()"
   ]
  },
  {
   "cell_type": "code",
   "execution_count": 49,
   "id": "3fb09910",
   "metadata": {},
   "outputs": [
    {
     "data": {
      "image/png": "[encoded data removed]",
      "text/plain": [
       "<Figure size 432x288 with 1 Axes>"
      ]
     },
     "metadata": {
      "needs_background": "light"
     },
     "output_type": "display_data"
    }
   ],
   "source": [
    "plt.hist(valid['caseData_life_BMI'], bins=100, density=True, alpha=0.3)\n",
    "#plt.hist(test['caseData_life_BMI'], bins=100, density=True, alpha=0.3)\n",
    "plt.legend(['valid', 'test'])\n",
    "plt.title(\"rerere\")\n",
    "plt.show()\n"
   ]
  },
  {
   "cell_type": "code",
   "execution_count": 50,
   "id": "4ea8125b",
   "metadata": {},
   "outputs": [
    {
     "data": {
      "image/png": "[encoded data removed]",
      "text/plain": [
       "<Figure size 432x288 with 1 Axes>"
      ]
     },
     "metadata": {
      "needs_background": "light"
     },
     "output_type": "display_data"
    }
   ],
   "source": [
    "plt.hist(valid['caseData_life_BLOOD_PRESSURE_SYSTOLIC'], bins=100, density=True, alpha=0.3)\n",
    "plt.hist(test['caseData_life_BLOOD_PRESSURE_SYSTOLIC'], bins=100, density=True, alpha=0.3)\n",
    "plt.legend(['valid', 'test'])\n",
    "plt.title(\"rerere\")\n",
    "plt.show()"
   ]
  },
  {
   "cell_type": "code",
   "execution_count": 51,
   "id": "60af8b77",
   "metadata": {},
   "outputs": [
    {
     "data": {
      "image/png": "[encoded data removed]",
      "text/plain": [
       "<Figure size 432x288 with 1 Axes>"
      ]
     },
     "metadata": {
      "needs_background": "light"
     },
     "output_type": "display_data"
    }
   ],
   "source": [
    "plt.hist(valid['concat_question_sup_1years_nlp_te_ref'], bins=100, density=True, alpha=0.3)\n",
    "plt.hist(test['concat_question_sup_1years_nlp_te_ref'], bins=100, density=True, alpha=0.3)\n",
    "plt.legend(['valid', 'test'])\n",
    "plt.title(\"rerere\")\n",
    "plt.show()\n"
   ]
  },
  {
   "cell_type": "code",
   "execution_count": null,
   "id": "c2635900",
   "metadata": {},
   "outputs": [],
   "source": []
  }
 ],
 "metadata": {
  "kernelspec": {
   "display_name": "Python 3 (ipykernel)",
   "language": "python",
   "name": "python3"
  },
  "language_info": {
   "codemirror_mode": {
    "name": "ipython",
    "version": 3
   },
   "file_extension": ".py",
   "mimetype": "text/x-python",
   "name": "python",
   "nbconvert_exporter": "python",
   "pygments_lexer": "ipython3",
   "version": "3.9.1"
  }
 },
 "nbformat": 4,
 "nbformat_minor": 5
}
