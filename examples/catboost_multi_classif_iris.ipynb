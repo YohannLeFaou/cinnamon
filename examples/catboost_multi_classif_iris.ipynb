{
 "cells": [
  {
   "cell_type": "markdown",
   "id": "c9282a05",
   "metadata": {},
   "source": [
    "The experiment is done with a random split so we should not detect a data drift"
   ]
  },
  {
   "cell_type": "code",
   "execution_count": null,
   "id": "da27f578",
   "metadata": {},
   "outputs": [],
   "source": [
    "import pandas as pd\n",
    "import numpy as np\n",
    "from sklearn import datasets\n",
    "from sklearn.model_selection import train_test_split\n",
    "from catboost import CatBoostClassifier\n",
    "import os\n",
    "import sys\n",
    "\n",
    "# TODO: handle this by running setup.py ?\n",
    "sys.path.append(os.path.abspath(os.path.join(os.getcwd(), os.pardir)))\n",
    "\n",
    "from src.drift.drift_explainer import DriftExplainer"
   ]
  },
  {
   "cell_type": "markdown",
   "id": "2e16e864",
   "metadata": {},
   "source": [
    "# Iris Data"
   ]
  },
  {
   "cell_type": "code",
   "execution_count": null,
   "id": "f582c773",
   "metadata": {},
   "outputs": [],
   "source": [
    "dataset = datasets.load_iris()"
   ]
  },
  {
   "cell_type": "code",
   "execution_count": null,
   "id": "b20301d9",
   "metadata": {},
   "outputs": [],
   "source": [
    "X = pd.DataFrame(dataset.data, columns = dataset.feature_names)\n",
    "y = dataset.target"
   ]
  },
  {
   "cell_type": "code",
   "execution_count": null,
   "id": "df4a4c87",
   "metadata": {},
   "outputs": [],
   "source": [
    "X.head()"
   ]
  },
  {
   "cell_type": "code",
   "execution_count": null,
   "id": "85a7a6c1",
   "metadata": {},
   "outputs": [],
   "source": [
    "np.unique(y, return_counts=True)"
   ]
  },
  {
   "cell_type": "markdown",
   "id": "a6ea631c",
   "metadata": {},
   "source": [
    "# Build CatBoost model"
   ]
  },
  {
   "cell_type": "code",
   "execution_count": null,
   "id": "cbf5e852",
   "metadata": {},
   "outputs": [],
   "source": [
    "X_train, X_valid, y_train, y_valid = train_test_split(X, y, test_size=0.3, random_state=2021)"
   ]
  },
  {
   "cell_type": "code",
   "execution_count": null,
   "id": "9be4d156",
   "metadata": {},
   "outputs": [],
   "source": [
    "clf = CatBoostClassifier(loss_function='MultiClass', \n",
    "                         learning_rate=0.1,\n",
    "                         iterations=1000,\n",
    "                         max_depth=6,\n",
    "                         early_stopping_rounds=20,\n",
    "                         random_seed=2021,\n",
    "                         verbose=10,\n",
    "                        )"
   ]
  },
  {
   "cell_type": "code",
   "execution_count": null,
   "id": "8001d44d",
   "metadata": {},
   "outputs": [],
   "source": [
    "clf.fit(X=X_train, y=y_train, eval_set=[(X_valid, y_valid)], early_stopping_rounds=20, verbose=10)"
   ]
  },
  {
   "cell_type": "code",
   "execution_count": null,
   "id": "55628f52",
   "metadata": {},
   "outputs": [],
   "source": [
    "#clf.save_model('models/catboost_multi_classif_iris')"
   ]
  },
  {
   "cell_type": "code",
   "execution_count": null,
   "id": "7529b017",
   "metadata": {},
   "outputs": [],
   "source": [
    "#clf = CatBoostClassifier()\n",
    "#clf.load_model('models/catboost_multi_classif_iris')"
   ]
  },
  {
   "cell_type": "code",
   "execution_count": null,
   "id": "89a3fef8",
   "metadata": {},
   "outputs": [],
   "source": [
    "drift_explainer = DriftExplainer()\n",
    "drift_explainer.fit(clf, X1=X_train, X2=X_valid, y1=y_train, y2=y_valid)"
   ]
  },
  {
   "cell_type": "code",
   "execution_count": null,
   "id": "a7b53a15",
   "metadata": {},
   "outputs": [],
   "source": [
    "drift_explainer.plot_prediction_drift()"
   ]
  },
  {
   "cell_type": "code",
   "execution_count": null,
   "id": "f0f39b51",
   "metadata": {},
   "outputs": [],
   "source": [
    "drift_explainer.get_prediction_drift()"
   ]
  },
  {
   "cell_type": "code",
   "execution_count": null,
   "id": "a681a2bf",
   "metadata": {},
   "outputs": [],
   "source": [
    "drift_explainer.plot_prediction_drift(prediction_type='proba')"
   ]
  },
  {
   "cell_type": "code",
   "execution_count": null,
   "id": "1c2201bb",
   "metadata": {},
   "outputs": [],
   "source": [
    "drift_explainer.get_prediction_drift(prediction_type='proba')"
   ]
  },
  {
   "cell_type": "code",
   "execution_count": null,
   "id": "e7834b47",
   "metadata": {},
   "outputs": [],
   "source": [
    "drift_explainer.plot_feature_contribs()"
   ]
  },
  {
   "cell_type": "code",
   "execution_count": null,
   "id": "3b2a6653",
   "metadata": {},
   "outputs": [],
   "source": [
    "drift_explainer.get_feature_contribs()"
   ]
  },
  {
   "cell_type": "code",
   "execution_count": null,
   "id": "48a9cd96",
   "metadata": {},
   "outputs": [],
   "source": [
    "# control\n",
    "drift_explainer.get_feature_contribs()"
   ]
  },
  {
   "cell_type": "code",
   "execution_count": null,
   "id": "82201979",
   "metadata": {},
   "outputs": [],
   "source": [
    "drift_explainer.plot_feature_contribs(type='mean')"
   ]
  },
  {
   "cell_type": "code",
   "execution_count": null,
   "id": "183fd966",
   "metadata": {},
   "outputs": [],
   "source": [
    "drift_explainer.get_feature_contribs(type='mean')"
   ]
  },
  {
   "cell_type": "code",
   "execution_count": null,
   "id": "53186e34",
   "metadata": {},
   "outputs": [],
   "source": [
    "drift_explainer.plot_target_drift()"
   ]
  },
  {
   "cell_type": "code",
   "execution_count": null,
   "id": "ca837448",
   "metadata": {},
   "outputs": [],
   "source": [
    "drift_explainer.get_target_drift()"
   ]
  },
  {
   "cell_type": "code",
   "execution_count": null,
   "id": "15a9ce7e",
   "metadata": {},
   "outputs": [],
   "source": [
    "drift_explainer.plot_feature_drift(2)"
   ]
  },
  {
   "cell_type": "code",
   "execution_count": null,
   "id": "5e102759",
   "metadata": {},
   "outputs": [],
   "source": [
    "drift_explainer.get_feature_drift(0)"
   ]
  },
  {
   "cell_type": "code",
   "execution_count": null,
   "id": "0a6ec417",
   "metadata": {},
   "outputs": [],
   "source": []
  },
  {
   "cell_type": "code",
   "execution_count": null,
   "id": "12113b5a",
   "metadata": {},
   "outputs": [],
   "source": []
  },
  {
   "cell_type": "code",
   "execution_count": null,
   "id": "0002f7c9",
   "metadata": {},
   "outputs": [],
   "source": []
  },
  {
   "cell_type": "code",
   "execution_count": null,
   "id": "49e61df1",
   "metadata": {},
   "outputs": [],
   "source": []
  }
 ],
 "metadata": {
  "kernelspec": {
   "display_name": "Python 3 (ipykernel)",
   "language": "python",
   "name": "python3"
  },
  "language_info": {
   "codemirror_mode": {
    "name": "ipython",
    "version": 3
   },
   "file_extension": ".py",
   "mimetype": "text/x-python",
   "name": "python",
   "nbconvert_exporter": "python",
   "pygments_lexer": "ipython3",
   "version": "3.9.1"
  }
 },
 "nbformat": 4,
 "nbformat_minor": 5
}
