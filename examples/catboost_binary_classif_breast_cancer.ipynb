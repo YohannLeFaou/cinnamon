{
 "cells": [
  {
   "cell_type": "markdown",
   "id": "c9282a05",
   "metadata": {},
   "source": [
    "The experiment is done with a random split so we should not detect a data drift"
   ]
  },
  {
   "cell_type": "code",
   "execution_count": null,
   "id": "e7495bfb",
   "metadata": {},
   "outputs": [],
   "source": [
    "%load_ext autoreload\n",
    "%autoreload 2"
   ]
  },
  {
   "cell_type": "code",
   "execution_count": null,
   "id": "da27f578",
   "metadata": {},
   "outputs": [],
   "source": [
    "import pandas as pd\n",
    "import numpy as np\n",
    "from sklearn import datasets\n",
    "from sklearn.model_selection import train_test_split\n",
    "from catboost import CatBoostClassifier, Pool\n",
    "import os\n",
    "import sys\n",
    "\n",
    "# TODO: handle this by running setup.py ?\n",
    "sys.path.append(os.path.abspath(os.path.join(os.getcwd(), os.pardir)))\n",
    "\n",
    "from src.drift.drift_explainer import DriftExplainer"
   ]
  },
  {
   "cell_type": "markdown",
   "id": "2e16e864",
   "metadata": {},
   "source": [
    "# Breast Cancer Data"
   ]
  },
  {
   "cell_type": "code",
   "execution_count": null,
   "id": "f582c773",
   "metadata": {},
   "outputs": [],
   "source": [
    "dataset = datasets.load_breast_cancer()"
   ]
  },
  {
   "cell_type": "code",
   "execution_count": null,
   "id": "b20301d9",
   "metadata": {},
   "outputs": [],
   "source": [
    "X = pd.DataFrame(dataset.data, columns = dataset.feature_names)\n",
    "y = dataset.target"
   ]
  },
  {
   "cell_type": "code",
   "execution_count": null,
   "id": "df4a4c87",
   "metadata": {},
   "outputs": [],
   "source": [
    "X.head()"
   ]
  },
  {
   "cell_type": "markdown",
   "id": "a6ea631c",
   "metadata": {},
   "source": [
    "# Build CatBoost model"
   ]
  },
  {
   "cell_type": "code",
   "execution_count": null,
   "id": "cbf5e852",
   "metadata": {},
   "outputs": [],
   "source": [
    "X_train, X_valid, y_train, y_valid = train_test_split(X, y, test_size=0.3)"
   ]
  },
  {
   "cell_type": "code",
   "execution_count": null,
   "id": "60c94965",
   "metadata": {},
   "outputs": [],
   "source": [
    "clf = CatBoostClassifier(loss_function='Logloss',\n",
    "                         learning_rate=0.1,\n",
    "                         iterations=1000,\n",
    "                         max_depth=6,\n",
    "                         early_stopping_rounds=20,\n",
    "                         random_seed=2021,\n",
    "                         verbose=10\n",
    "                        )"
   ]
  },
  {
   "cell_type": "code",
   "execution_count": null,
   "id": "b55c669b",
   "metadata": {},
   "outputs": [],
   "source": [
    "clf.fit(X=Pool(X_train, y_train), eval_set=Pool(X_valid, y_valid))"
   ]
  },
  {
   "cell_type": "code",
   "execution_count": null,
   "id": "fda168d6",
   "metadata": {},
   "outputs": [],
   "source": [
    "#clf.save_model('models/catboost_binary_classif_breast_cancer')"
   ]
  },
  {
   "cell_type": "code",
   "execution_count": null,
   "id": "9d48ac4d",
   "metadata": {},
   "outputs": [],
   "source": [
    "#clf = CatBoostClassifier()\n",
    "#clf.load_model('models/catboost_binary_classif_breast_cancer')"
   ]
  },
  {
   "cell_type": "code",
   "execution_count": null,
   "id": "57797a5f",
   "metadata": {},
   "outputs": [],
   "source": [
    "drift_explainer = DriftExplainer()\n",
    "drift_explainer.fit(clf, X1=X_train, X2=X_valid, y1=y_train, y2=y_valid)"
   ]
  },
  {
   "cell_type": "code",
   "execution_count": null,
   "id": "5917d285",
   "metadata": {},
   "outputs": [],
   "source": [
    "drift_explainer.plot_prediction_drift()"
   ]
  },
  {
   "cell_type": "code",
   "execution_count": null,
   "id": "b7ab4a61",
   "metadata": {},
   "outputs": [],
   "source": [
    "drift_explainer.get_prediction_drift()"
   ]
  },
  {
   "cell_type": "code",
   "execution_count": null,
   "id": "c62370f3",
   "metadata": {},
   "outputs": [],
   "source": [
    "drift_explainer.plot_prediction_drift(prediction_type='proba')"
   ]
  },
  {
   "cell_type": "code",
   "execution_count": null,
   "id": "78d7194a",
   "metadata": {},
   "outputs": [],
   "source": [
    "drift_explainer.get_prediction_drift(prediction_type='proba')"
   ]
  },
  {
   "cell_type": "code",
   "execution_count": null,
   "id": "a617e7e4",
   "metadata": {},
   "outputs": [],
   "source": [
    "drift_explainer.plot_feature_contribs(type='size_diff')"
   ]
  },
  {
   "cell_type": "code",
   "execution_count": null,
   "id": "1c107b53",
   "metadata": {},
   "outputs": [],
   "source": [
    "drift_explainer.get_feature_contribs(type='size_diff')"
   ]
  },
  {
   "cell_type": "code",
   "execution_count": null,
   "id": "3bb80066",
   "metadata": {},
   "outputs": [],
   "source": [
    "# control\n",
    "drift_explainer.get_feature_contribs(type='size_diff')"
   ]
  },
  {
   "cell_type": "code",
   "execution_count": null,
   "id": "205d9252",
   "metadata": {},
   "outputs": [],
   "source": [
    "drift_explainer.plot_feature_contribs(type='mean_diff')"
   ]
  },
  {
   "cell_type": "code",
   "execution_count": null,
   "id": "254208c7",
   "metadata": {},
   "outputs": [],
   "source": [
    "drift_explainer.get_feature_contribs(type='mean_diff')"
   ]
  },
  {
   "cell_type": "code",
   "execution_count": null,
   "id": "4958ff91",
   "metadata": {},
   "outputs": [],
   "source": [
    "# control\n",
    "drift_explainer.get_feature_contribs(type='mean_diff')"
   ]
  },
  {
   "cell_type": "code",
   "execution_count": null,
   "id": "d3c807cf",
   "metadata": {},
   "outputs": [],
   "source": [
    "drift_explainer.plot_target_drift()"
   ]
  },
  {
   "cell_type": "code",
   "execution_count": null,
   "id": "e898cd64",
   "metadata": {},
   "outputs": [],
   "source": [
    "drift_explainer.get_target_drift()"
   ]
  },
  {
   "cell_type": "code",
   "execution_count": null,
   "id": "e6111be0",
   "metadata": {},
   "outputs": [],
   "source": [
    "drift_explainer.plot_feature_drift('mean texture')\n",
    "drift_explainer.get_feature_drift('mean texture')\n"
   ]
  },
  {
   "cell_type": "code",
   "execution_count": null,
   "id": "a391200a",
   "metadata": {},
   "outputs": [],
   "source": [
    "drift_explainer.plot_feature_drift(0)"
   ]
  },
  {
   "cell_type": "code",
   "execution_count": null,
   "id": "7209b9b8",
   "metadata": {},
   "outputs": [],
   "source": [
    "drift_explainer.get_feature_drifts()"
   ]
  },
  {
   "cell_type": "code",
   "execution_count": null,
   "id": "372aee0a",
   "metadata": {},
   "outputs": [],
   "source": []
  },
  {
   "cell_type": "code",
   "execution_count": null,
   "id": "bdb45cb2",
   "metadata": {},
   "outputs": [],
   "source": []
  },
  {
   "cell_type": "code",
   "execution_count": null,
   "id": "8eb31e70",
   "metadata": {},
   "outputs": [],
   "source": []
  },
  {
   "cell_type": "code",
   "execution_count": null,
   "id": "0107b115",
   "metadata": {},
   "outputs": [],
   "source": []
  }
 ],
 "metadata": {
  "kernelspec": {
   "display_name": "Python 3 (ipykernel)",
   "language": "python",
   "name": "python3"
  },
  "language_info": {
   "codemirror_mode": {
    "name": "ipython",
    "version": 3
   },
   "file_extension": ".py",
   "mimetype": "text/x-python",
   "name": "python",
   "nbconvert_exporter": "python",
   "pygments_lexer": "ipython3",
   "version": "3.9.1"
  }
 },
 "nbformat": 4,
 "nbformat_minor": 5
}
