{
 "cells": [
  {
   "cell_type": "code",
   "execution_count": null,
   "id": "549410e6",
   "metadata": {},
   "outputs": [],
   "source": [
    "%load_ext autoreload\n",
    "%autoreload 2"
   ]
  },
  {
   "cell_type": "code",
   "execution_count": null,
   "id": "208fdfb6",
   "metadata": {},
   "outputs": [],
   "source": [
    "import pandas as pd\n",
    "import numpy as np\n",
    "from sklearn import datasets\n",
    "from sklearn.model_selection import train_test_split\n",
    "from sklearn.metrics import log_loss, roc_auc_score, accuracy_score\n",
    "from xgboost import XGBClassifier\n",
    "import xgboost as xgb\n",
    "import os\n",
    "import sys\n",
    "\n",
    "# TODO: handle this by running setup.py ?\n",
    "sys.path.append(os.path.abspath(os.path.join(os.getcwd(), os.pardir)))\n",
    "\n",
    "from src.drift.drift_explainer import DriftExplainer\n",
    "\n",
    "# config\n",
    "pd.set_option('display.max_columns', 500)\n",
    "pd.set_option('display.max_rows', 500)\n",
    "\n",
    "seed = 2021"
   ]
  },
  {
   "cell_type": "markdown",
   "id": "52e44e05",
   "metadata": {},
   "source": [
    "# IEEE fraud data"
   ]
  },
  {
   "cell_type": "markdown",
   "id": "89e02e80",
   "metadata": {},
   "source": [
    "if you have setup a kaggle api token"
   ]
  },
  {
   "cell_type": "code",
   "execution_count": null,
   "id": "dd8d0059",
   "metadata": {},
   "outputs": [],
   "source": [
    "#!kaggle competitions download -c ieee-fraud-detection"
   ]
  },
  {
   "cell_type": "markdown",
   "id": "45b35398",
   "metadata": {},
   "source": [
    "Else you can download the data here: https://www.kaggle.com/c/ieee-fraud-detection/data, and (I think) you will have to accept the competition rules"
   ]
  },
  {
   "cell_type": "code",
   "execution_count": null,
   "id": "b491e5b8",
   "metadata": {},
   "outputs": [],
   "source": [
    "df = pd.read_csv('data/train_transaction.csv')"
   ]
  },
  {
   "cell_type": "code",
   "execution_count": null,
   "id": "aab1755d",
   "metadata": {},
   "outputs": [],
   "source": [
    "print(df.shape)"
   ]
  },
  {
   "cell_type": "markdown",
   "id": "86f34a8b",
   "metadata": {},
   "source": [
    "# Preprocessing"
   ]
  },
  {
   "cell_type": "code",
   "execution_count": null,
   "id": "3f619582",
   "metadata": {},
   "outputs": [],
   "source": [
    "missing_values = df.isnull().sum(axis=0)\n",
    "missing_values"
   ]
  },
  {
   "cell_type": "code",
   "execution_count": null,
   "id": "d9cf9f5b",
   "metadata": {},
   "outputs": [],
   "source": [
    "selected_columns = [col for col in df.columns if missing_values[col] < 10000]"
   ]
  },
  {
   "cell_type": "code",
   "execution_count": null,
   "id": "d0a0f9a3",
   "metadata": {},
   "outputs": [],
   "source": [
    "df = df[selected_columns].dropna(axis=0, how='any')\n",
    "df = df.loc[df['card6'].isin(['debit', 'credit']), :].copy()"
   ]
  },
  {
   "cell_type": "code",
   "execution_count": null,
   "id": "736a25af",
   "metadata": {},
   "outputs": [],
   "source": [
    "df['card6'] = (df['card6'] == 'credit') * 1"
   ]
  },
  {
   "cell_type": "code",
   "execution_count": null,
   "id": "de334813",
   "metadata": {},
   "outputs": [],
   "source": [
    "df.head()"
   ]
  },
  {
   "cell_type": "code",
   "execution_count": null,
   "id": "915f180c",
   "metadata": {},
   "outputs": [],
   "source": [
    "is_sorted = lambda x: (np.diff(x)>=0).all()"
   ]
  },
  {
   "cell_type": "code",
   "execution_count": null,
   "id": "9e3bb77e",
   "metadata": {},
   "outputs": [],
   "source": [
    "is_sorted(df['TransactionDT'])"
   ]
  },
  {
   "cell_type": "markdown",
   "id": "52eafff6",
   "metadata": {},
   "source": [
    "# Sampling"
   ]
  },
  {
   "cell_type": "code",
   "execution_count": null,
   "id": "d39c8a54",
   "metadata": {},
   "outputs": [],
   "source": [
    "features = [col for col in df.columns if col not in ['TransactionID', 'isFraud', 'TransactionDT',\n",
    "                                                     'ProductCD', 'card4']]"
   ]
  },
  {
   "cell_type": "code",
   "execution_count": null,
   "id": "987ae23e",
   "metadata": {},
   "outputs": [],
   "source": [
    "df[features].head()"
   ]
  },
  {
   "cell_type": "code",
   "execution_count": null,
   "id": "66601a4e",
   "metadata": {},
   "outputs": [],
   "source": [
    "df_temp, df_prod = train_test_split(df.copy(), test_size=0.25, shuffle=False, random_state=seed)"
   ]
  },
  {
   "cell_type": "code",
   "execution_count": null,
   "id": "8285f980",
   "metadata": {},
   "outputs": [],
   "source": [
    "df_temp['card6'].value_counts()"
   ]
  },
  {
   "cell_type": "code",
   "execution_count": null,
   "id": "9bc4cde1",
   "metadata": {},
   "outputs": [],
   "source": [
    "np.random.seed(seed)\n",
    "df_temp = df_temp.loc[((np.random.randint(low=0, high=9, size=df_temp.shape[0]) == 0) |\n",
    "                       (df_temp['card6'].values == 1)), :]"
   ]
  },
  {
   "cell_type": "code",
   "execution_count": null,
   "id": "a369630d",
   "metadata": {},
   "outputs": [],
   "source": [
    "df_temp['card6'].value_counts()"
   ]
  },
  {
   "cell_type": "code",
   "execution_count": null,
   "id": "8d97717e",
   "metadata": {},
   "outputs": [],
   "source": [
    "X_train, X_valid, y_train, y_valid = train_test_split(df_temp[features].copy(),\n",
    "                                                      df_temp['isFraud'].values,\n",
    "                                                      test_size=1/3,\n",
    "                                                      shuffle=False,\n",
    "                                                      random_state=seed)"
   ]
  },
  {
   "cell_type": "code",
   "execution_count": null,
   "id": "30dd532d",
   "metadata": {},
   "outputs": [],
   "source": [
    "X_prod, y_prod = df_prod[features], df_prod['isFraud'].values"
   ]
  },
  {
   "cell_type": "markdown",
   "id": "1691addc",
   "metadata": {},
   "source": [
    "# Build model"
   ]
  },
  {
   "cell_type": "code",
   "execution_count": null,
   "id": "79c9db1f",
   "metadata": {},
   "outputs": [],
   "source": [
    "clf = XGBClassifier(n_estimators=1000,\n",
    "                    booster=\"gbtree\",\n",
    "                    objective=\"binary:logistic\",\n",
    "                    learning_rate=0.2,\n",
    "                    max_depth=6,\n",
    "                    use_label_encoder=False,\n",
    "                    seed=seed)"
   ]
  },
  {
   "cell_type": "code",
   "execution_count": null,
   "id": "bffd4f89",
   "metadata": {},
   "outputs": [],
   "source": [
    "clf.fit(X=X_train, y=y_train, eval_set=[(X_valid, y_valid)], early_stopping_rounds=20,\n",
    "        verbose=10, eval_metric=['auc', 'logloss'])"
   ]
  },
  {
   "cell_type": "markdown",
   "id": "c14e9263",
   "metadata": {},
   "source": [
    "# Detection of data drift"
   ]
  },
  {
   "cell_type": "code",
   "execution_count": null,
   "id": "772cdb4a",
   "metadata": {},
   "outputs": [],
   "source": [
    "drift_explainer = DriftExplainer()"
   ]
  },
  {
   "cell_type": "code",
   "execution_count": null,
   "id": "981f458a",
   "metadata": {},
   "outputs": [],
   "source": [
    "drift_explainer.fit(clf, X1=X_valid, X2=X_prod, y1=y_valid, y2=y_prod)"
   ]
  },
  {
   "cell_type": "code",
   "execution_count": null,
   "id": "b68b066c",
   "metadata": {
    "scrolled": false
   },
   "outputs": [],
   "source": [
    "drift_explainer.plot_prediction_drift()\n",
    "drift_explainer.get_prediction_drift()"
   ]
  },
  {
   "cell_type": "code",
   "execution_count": null,
   "id": "1f1aacc4",
   "metadata": {},
   "outputs": [],
   "source": [
    "drift_explainer.plot_target_drift()\n",
    "drift_explainer.get_target_drift()"
   ]
  },
  {
   "cell_type": "code",
   "execution_count": null,
   "id": "76734d7d",
   "metadata": {},
   "outputs": [],
   "source": [
    "print(f'log_loss valid: {log_loss(y_valid, clf.predict_proba(X_valid))}')\n",
    "print(f'log_loss prod: {log_loss(y_prod, clf.predict_proba(X_prod))}')"
   ]
  },
  {
   "cell_type": "markdown",
   "id": "b76a183f",
   "metadata": {},
   "source": [
    "# Explaination of data drift"
   ]
  },
  {
   "cell_type": "code",
   "execution_count": null,
   "id": "713ca0ca",
   "metadata": {},
   "outputs": [],
   "source": [
    "drift_explainer.plot_feature_contribs(type='node_size')"
   ]
  },
  {
   "cell_type": "code",
   "execution_count": null,
   "id": "3f165f2e",
   "metadata": {},
   "outputs": [],
   "source": [
    "drift_explainer.plot_feature_drift('card6', as_discrete=True)\n",
    "drift_explainer.get_feature_drift('card6')"
   ]
  },
  {
   "cell_type": "code",
   "execution_count": null,
   "id": "f72d8046",
   "metadata": {},
   "outputs": [],
   "source": [
    "drift_explainer.plot_feature_drift('C5')\n",
    "drift_explainer.get_feature_drift('C5')"
   ]
  },
  {
   "cell_type": "code",
   "execution_count": null,
   "id": "f720d908",
   "metadata": {},
   "outputs": [],
   "source": [
    "drift_explainer.plot_feature_drift('TransactionAmt')\n",
    "drift_explainer.get_feature_drift('TransactionAmt')"
   ]
  },
  {
   "cell_type": "code",
   "execution_count": null,
   "id": "31b60510",
   "metadata": {
    "scrolled": true
   },
   "outputs": [],
   "source": [
    "# feature importance of the model\n",
    "pd.DataFrame(clf.feature_importances_, X_train.columns).sort_values(0, ascending=False)"
   ]
  },
  {
   "cell_type": "markdown",
   "id": "0dc33a09",
   "metadata": {},
   "source": [
    "# Correction of data drift"
   ]
  },
  {
   "cell_type": "markdown",
   "id": "45b56fc5",
   "metadata": {},
   "source": [
    "## Correction on validation dataset"
   ]
  },
  {
   "cell_type": "code",
   "execution_count": null,
   "id": "a252871d",
   "metadata": {
    "scrolled": true
   },
   "outputs": [],
   "source": [
    "# weights computed with the adversarial method\n",
    "sample_weights_valid_adversarial, drift_corrector = drift_explainer.get_adversarial_correction_weights(\n",
    "    feature_subset=['card6'], return_object=True) #  , 'C5', 'TransactionAmt', 'D1', 'C13'\n"
   ]
  },
  {
   "cell_type": "markdown",
   "id": "57937b73",
   "metadata": {},
   "source": [
    "### Study the drift with the new weights on validation data"
   ]
  },
  {
   "cell_type": "code",
   "execution_count": null,
   "id": "1a23a22f",
   "metadata": {},
   "outputs": [],
   "source": [
    "drift_explainer2 = DriftExplainer()\n",
    "drift_explainer2.fit(clf, X1=X_valid, X2=X_prod, y1=y_valid, y2=y_prod,\n",
    "                     sample_weights1=sample_weights_valid_adversarial)"
   ]
  },
  {
   "cell_type": "code",
   "execution_count": null,
   "id": "a24f94ac",
   "metadata": {},
   "outputs": [],
   "source": [
    "# much better\n",
    "drift_explainer2.plot_prediction_drift()\n",
    "drift_explainer2.get_prediction_drift()"
   ]
  },
  {
   "cell_type": "code",
   "execution_count": null,
   "id": "f04e7fb7",
   "metadata": {},
   "outputs": [],
   "source": [
    "drift_explainer2.plot_target_drift()\n",
    "drift_explainer2.get_target_drift()"
   ]
  },
  {
   "cell_type": "code",
   "execution_count": null,
   "id": "f838f9a4",
   "metadata": {},
   "outputs": [],
   "source": [
    "# we now replicates much better what happens in production\n",
    "print(f'log_loss valid: {log_loss(y_valid, clf.predict_proba(X_valid), sample_weight=sample_weights_valid_adversarial)}')\n",
    "print(f'log_loss prod: {log_loss(y_prod, clf.predict_proba(X_prod))}')"
   ]
  },
  {
   "cell_type": "markdown",
   "id": "3a7561bb",
   "metadata": {},
   "source": [
    "## Correction on validation dataset and train dataset (in order to retrain the model)"
   ]
  },
  {
   "cell_type": "code",
   "execution_count": null,
   "id": "74a2d092",
   "metadata": {},
   "outputs": [],
   "source": [
    "drift_explainer3 = DriftExplainer()\n",
    "drift_explainer3.fit(clf, X1=X_train, X2=X_prod)"
   ]
  },
  {
   "cell_type": "code",
   "execution_count": null,
   "id": "5d759e11",
   "metadata": {
    "scrolled": true
   },
   "outputs": [],
   "source": [
    "# weights computed with the adversarial method\n",
    "sample_weights_train_adversarial, drift_corrector = drift_explainer3.get_adversarial_correction_weights(\n",
    "    feature_subset=['card6'], return_object=True) #, 'C5', 'TransactionAmt', 'D1', 'C13'\n"
   ]
  },
  {
   "cell_type": "code",
   "execution_count": null,
   "id": "50f88e4b",
   "metadata": {},
   "outputs": [],
   "source": [
    "clf2 = XGBClassifier(n_estimators=1000,\n",
    "                    booster=\"gbtree\",\n",
    "                    objective=\"binary:logistic\",\n",
    "                    learning_rate=0.2,\n",
    "                    max_depth=5,\n",
    "                    use_label_encoder=False,\n",
    "                    seed=seed)"
   ]
  },
  {
   "cell_type": "code",
   "execution_count": null,
   "id": "5f51d194",
   "metadata": {},
   "outputs": [],
   "source": [
    "# we use a gamma factor as in the book\n",
    "clf2.fit(X=X_train, y=y_train, eval_set=[(X_valid, y_valid)], sample_weight=sample_weights_train_adversarial**0.1,\n",
    "         early_stopping_rounds=20, verbose=10, eval_metric=['auc', 'logloss'],\n",
    "         sample_weight_eval_set=[sample_weights_valid_adversarial])"
   ]
  },
  {
   "cell_type": "code",
   "execution_count": null,
   "id": "bd84f943",
   "metadata": {},
   "outputs": [],
   "source": [
    "print(f'log_loss valid: {log_loss(y_valid, clf2.predict_proba(X_valid), sample_weight=sample_weights_valid_adversarial)}')\n",
    "print(f'log_loss prod: {log_loss(y_prod, clf2.predict_proba(X_prod))}')"
   ]
  },
  {
   "cell_type": "code",
   "execution_count": null,
   "id": "8a358acc",
   "metadata": {},
   "outputs": [],
   "source": []
  },
  {
   "cell_type": "code",
   "execution_count": null,
   "id": "cf7cd6ec",
   "metadata": {},
   "outputs": [],
   "source": []
  }
 ],
 "metadata": {
  "kernelspec": {
   "display_name": "Python 3 (ipykernel)",
   "language": "python",
   "name": "python3"
  },
  "language_info": {
   "codemirror_mode": {
    "name": "ipython",
    "version": 3
   },
   "file_extension": ".py",
   "mimetype": "text/x-python",
   "name": "python",
   "nbconvert_exporter": "python",
   "pygments_lexer": "ipython3",
   "version": "3.9.1"
  }
 },
 "nbformat": 4,
 "nbformat_minor": 5
}
