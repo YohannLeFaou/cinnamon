{
 "cells": [
  {
   "cell_type": "markdown",
   "id": "c9282a05",
   "metadata": {},
   "source": [
    "The experiment is done with a random split so we should not detect a data drift"
   ]
  },
  {
   "cell_type": "code",
   "execution_count": null,
   "id": "e7495bfb",
   "metadata": {},
   "outputs": [],
   "source": [
    "%load_ext autoreload\n",
    "%autoreload 2"
   ]
  },
  {
   "cell_type": "code",
   "execution_count": null,
   "id": "da27f578",
   "metadata": {},
   "outputs": [],
   "source": [
    "import pandas as pd\n",
    "import numpy as np\n",
    "from sklearn import datasets\n",
    "from sklearn.model_selection import train_test_split\n",
    "from xgboost import XGBClassifier\n",
    "import xgboost as xgb\n",
    "import os\n",
    "import sys\n",
    "\n",
    "# TODO: handle this by running setup.py ?\n",
    "sys.path.append(os.path.abspath(os.path.join(os.getcwd(), os.pardir)))\n",
    "\n",
    "from src.drift.drift_explainer import DriftExplainer"
   ]
  },
  {
   "cell_type": "markdown",
   "id": "2e16e864",
   "metadata": {},
   "source": [
    "# Breast Cancer Data"
   ]
  },
  {
   "cell_type": "code",
   "execution_count": null,
   "id": "f582c773",
   "metadata": {},
   "outputs": [],
   "source": [
    "dataset = datasets.load_breast_cancer()"
   ]
  },
  {
   "cell_type": "code",
   "execution_count": null,
   "id": "b20301d9",
   "metadata": {},
   "outputs": [],
   "source": [
    "X = pd.DataFrame(dataset.data, columns = dataset.feature_names)\n",
    "y = dataset.target"
   ]
  },
  {
   "cell_type": "code",
   "execution_count": null,
   "id": "df4a4c87",
   "metadata": {},
   "outputs": [],
   "source": [
    "X.head()"
   ]
  },
  {
   "cell_type": "markdown",
   "id": "a6ea631c",
   "metadata": {},
   "source": [
    "# Build XGBoost model"
   ]
  },
  {
   "cell_type": "code",
   "execution_count": null,
   "id": "cbf5e852",
   "metadata": {},
   "outputs": [],
   "source": [
    "X_train, X_valid, y_train, y_valid = train_test_split(X, y, test_size=0.3)"
   ]
  },
  {
   "cell_type": "code",
   "execution_count": null,
   "id": "9be4d156",
   "metadata": {},
   "outputs": [],
   "source": [
    "clf = XGBClassifier(n_estimators=1000,\n",
    "                    booster=\"gbtree\",\n",
    "                    objective=\"binary:logistic\",\n",
    "                    learning_rate=0.05,\n",
    "                    max_depth=6,\n",
    "                    use_label_encoder=False,\n",
    "                    seed=2021)"
   ]
  },
  {
   "cell_type": "code",
   "execution_count": null,
   "id": "8001d44d",
   "metadata": {},
   "outputs": [],
   "source": [
    "clf.fit(X=X_train, y=y_train, eval_set=[(X_valid, y_valid)], early_stopping_rounds=20, verbose=10)"
   ]
  },
  {
   "cell_type": "code",
   "execution_count": null,
   "id": "55628f52",
   "metadata": {},
   "outputs": [],
   "source": [
    "#clf.save_model('models/xgboost_binary_classif_breast_cancer')"
   ]
  },
  {
   "cell_type": "code",
   "execution_count": null,
   "id": "bcdd678c",
   "metadata": {},
   "outputs": [],
   "source": [
    "#clf = XGBClassifier()\n",
    "#clf.load_model('models/xgboost_binary_classif_breast_cancer')"
   ]
  },
  {
   "cell_type": "markdown",
   "id": "7b265d66",
   "metadata": {},
   "source": [
    "# Analyze data drift"
   ]
  },
  {
   "cell_type": "code",
   "execution_count": null,
   "id": "74f9b603",
   "metadata": {},
   "outputs": [],
   "source": [
    "drift_explainer = DriftExplainer()"
   ]
  },
  {
   "cell_type": "code",
   "execution_count": null,
   "id": "e148cd59",
   "metadata": {},
   "outputs": [],
   "source": [
    "drift_explainer.fit(clf, X1=X_train, X2=X_valid, y1=y_train, y2=y_valid)"
   ]
  },
  {
   "cell_type": "code",
   "execution_count": null,
   "id": "6f5d7abb",
   "metadata": {},
   "outputs": [],
   "source": [
    "drift_explainer.plot_prediction_drift()"
   ]
  },
  {
   "cell_type": "code",
   "execution_count": null,
   "id": "2dd0b673",
   "metadata": {},
   "outputs": [],
   "source": [
    "drift_explainer.get_prediction_drift()"
   ]
  },
  {
   "cell_type": "code",
   "execution_count": null,
   "id": "749dc497",
   "metadata": {},
   "outputs": [],
   "source": [
    "drift_explainer.plot_prediction_drift(prediction_type='proba')"
   ]
  },
  {
   "cell_type": "code",
   "execution_count": null,
   "id": "fd03a8fb",
   "metadata": {},
   "outputs": [],
   "source": [
    "drift_explainer.get_prediction_drift(prediction_type='proba')"
   ]
  },
  {
   "cell_type": "code",
   "execution_count": null,
   "id": "efd1ae0e",
   "metadata": {
    "scrolled": false
   },
   "outputs": [],
   "source": [
    "drift_explainer.plot_feature_contribs(type='size_diff')"
   ]
  },
  {
   "cell_type": "code",
   "execution_count": null,
   "id": "60518cba",
   "metadata": {
    "scrolled": true
   },
   "outputs": [],
   "source": [
    "drift_explainer.get_feature_contribs(type='size_diff')"
   ]
  },
  {
   "cell_type": "code",
   "execution_count": null,
   "id": "09d28233",
   "metadata": {
    "scrolled": true
   },
   "outputs": [],
   "source": [
    "drift_explainer.plot_feature_contribs(type='mean_diff')"
   ]
  },
  {
   "cell_type": "code",
   "execution_count": null,
   "id": "2770f92f",
   "metadata": {
    "scrolled": true
   },
   "outputs": [],
   "source": [
    "drift_explainer.get_feature_contribs(type='mean_diff')"
   ]
  },
  {
   "cell_type": "code",
   "execution_count": null,
   "id": "f7a30dda",
   "metadata": {},
   "outputs": [],
   "source": [
    "drift_explainer.plot_target_drift()"
   ]
  },
  {
   "cell_type": "code",
   "execution_count": null,
   "id": "efafe223",
   "metadata": {},
   "outputs": [],
   "source": [
    "drift_explainer.get_target_drift()"
   ]
  },
  {
   "cell_type": "code",
   "execution_count": null,
   "id": "9692db09",
   "metadata": {},
   "outputs": [],
   "source": [
    "drift_explainer.plot_feature_drift(0)"
   ]
  },
  {
   "cell_type": "code",
   "execution_count": null,
   "id": "a890b9d8",
   "metadata": {},
   "outputs": [],
   "source": [
    "drift_explainer.get_feature_drifts()"
   ]
  },
  {
   "cell_type": "code",
   "execution_count": null,
   "id": "d5bdce0c",
   "metadata": {},
   "outputs": [],
   "source": []
  },
  {
   "cell_type": "markdown",
   "id": "8c7bac31",
   "metadata": {},
   "source": [
    "# With base XGBoost API"
   ]
  },
  {
   "cell_type": "code",
   "execution_count": null,
   "id": "a7dbe7f2",
   "metadata": {},
   "outputs": [],
   "source": [
    "X_train, X_valid, y_train, y_valid = train_test_split(X, y, test_size=0.3)"
   ]
  },
  {
   "cell_type": "code",
   "execution_count": null,
   "id": "6e0a07cb",
   "metadata": {},
   "outputs": [],
   "source": [
    "dtrain = xgb.DMatrix(X_train, y_train)\n",
    "dvalid = xgb.DMatrix(X_valid, y_valid)"
   ]
  },
  {
   "cell_type": "code",
   "execution_count": null,
   "id": "5fffc05c",
   "metadata": {},
   "outputs": [],
   "source": [
    "param = {'max_depth': 6,\n",
    "         'learning_rate': 0.05,\n",
    "         'objective': 'binary:logistic',\n",
    "         'booster': 'gbtree',\n",
    "         'seed': 2021\n",
    "        }"
   ]
  },
  {
   "cell_type": "code",
   "execution_count": null,
   "id": "50a36fe2",
   "metadata": {},
   "outputs": [],
   "source": [
    "bst = xgb.train(param, dtrain, num_boost_round=1000,\n",
    "                evals=[(dtrain, 'train'), (dvalid, 'valid')],\n",
    "                early_stopping_rounds=20, verbose_eval=10)"
   ]
  },
  {
   "cell_type": "code",
   "execution_count": null,
   "id": "bbce95a6",
   "metadata": {},
   "outputs": [],
   "source": [
    "drift_explainer = DriftExplainer()\n",
    "drift_explainer.fit(bst, X1=X_train, X2=X_valid, y1=y_train, y2=y_valid)"
   ]
  },
  {
   "cell_type": "code",
   "execution_count": null,
   "id": "595fc950",
   "metadata": {},
   "outputs": [],
   "source": []
  }
 ],
 "metadata": {
  "kernelspec": {
   "display_name": "Python 3 (ipykernel)",
   "language": "python",
   "name": "python3"
  },
  "language_info": {
   "codemirror_mode": {
    "name": "ipython",
    "version": 3
   },
   "file_extension": ".py",
   "mimetype": "text/x-python",
   "name": "python",
   "nbconvert_exporter": "python",
   "pygments_lexer": "ipython3",
   "version": "3.9.1"
  }
 },
 "nbformat": 4,
 "nbformat_minor": 5
}
