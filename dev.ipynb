{
 "cells": [
  {
   "cell_type": "code",
   "execution_count": 1,
   "id": "58365eab",
   "metadata": {},
   "outputs": [],
   "source": [
    "%load_ext autoreload\n",
    "%autoreload 2"
   ]
  },
  {
   "cell_type": "code",
   "execution_count": 2,
   "id": "71fa939f",
   "metadata": {},
   "outputs": [],
   "source": [
    "from catboost import CatBoostClassifier, Pool\n",
    "import pickle"
   ]
  },
  {
   "cell_type": "code",
   "execution_count": 6,
   "id": "96ff5c4f",
   "metadata": {},
   "outputs": [
    {
     "data": {
      "text/plain": [
       "<catboost.core.CatBoostClassifier at 0x11798a5b0>"
      ]
     },
     "execution_count": 6,
     "metadata": {},
     "output_type": "execute_result"
    }
   ],
   "source": [
    "clf = CatBoostClassifier()\n",
    "clf.load_model('models/veltios_model')"
   ]
  },
  {
   "cell_type": "code",
   "execution_count": 5,
   "id": "2c19108f",
   "metadata": {},
   "outputs": [],
   "source": [
    "from src.tree_ensemble import TreeEnsemble"
   ]
  },
  {
   "cell_type": "code",
   "execution_count": 7,
   "id": "0ed353f4",
   "metadata": {},
   "outputs": [
    {
     "name": "stdout",
     "output_type": "stream",
     "text": [
      "C extension was not built during install!\n"
     ]
    }
   ],
   "source": [
    "standardized_clf = TreeEnsemble(clf)"
   ]
  },
  {
   "cell_type": "code",
   "execution_count": 8,
   "id": "3b7cbe40",
   "metadata": {},
   "outputs": [
    {
     "data": {
      "text/plain": [
       "{'model_type': 'catboost',\n",
       " 'trees': None,\n",
       " 'base_offset': 0,\n",
       " 'model_output': None,\n",
       " 'objective': 'binary_crossentropy',\n",
       " 'tree_output': 'log_odds',\n",
       " 'internal_dtype': numpy.float64,\n",
       " 'input_dtype': numpy.float32,\n",
       " 'data': None,\n",
       " 'data_missing': None,\n",
       " 'fully_defined_weighting': True,\n",
       " 'tree_limit': None,\n",
       " 'num_stacked_models': 1,\n",
       " 'cat_feature_indices': [0,\n",
       "  1,\n",
       "  2,\n",
       "  3,\n",
       "  4,\n",
       "  5,\n",
       "  6,\n",
       "  7,\n",
       "  8,\n",
       "  9,\n",
       "  10,\n",
       "  11,\n",
       "  12,\n",
       "  13,\n",
       "  14,\n",
       "  15,\n",
       "  16,\n",
       "  17,\n",
       "  18,\n",
       "  19,\n",
       "  20,\n",
       "  21,\n",
       "  30,\n",
       "  31,\n",
       "  32,\n",
       "  33,\n",
       "  34,\n",
       "  35,\n",
       "  36,\n",
       "  37,\n",
       "  38,\n",
       "  39,\n",
       "  40,\n",
       "  41,\n",
       "  42,\n",
       "  43,\n",
       "  44,\n",
       "  45,\n",
       "  46,\n",
       "  47,\n",
       "  48,\n",
       "  49,\n",
       "  50,\n",
       "  51,\n",
       "  52],\n",
       " 'original_model': <catboost.core.CatBoostClassifier at 0x11798a5b0>}"
      ]
     },
     "execution_count": 8,
     "metadata": {},
     "output_type": "execute_result"
    }
   ],
   "source": [
    "standardized_clf.__dict__"
   ]
  },
  {
   "cell_type": "markdown",
   "id": "2db3e63b",
   "metadata": {},
   "source": [
    "# Rappel de comment on récup lesinfos dans catboost"
   ]
  },
  {
   "cell_type": "code",
   "execution_count": 6,
   "id": "53a06bc0",
   "metadata": {},
   "outputs": [
    {
     "name": "stdout",
     "output_type": "stream",
     "text": [
      "('train_finish_time', '2021-03-28T10:43:18Z')\n",
      "('catboost_version_info', 'Git info:\\n    Commit: e31af0f9afd45607d95d658e6977f9a4445d1c27\\n    Branch: heads/master\\n    Author: arcadia-devtools <arcadia-devtools@yandex-team.ru>\\n    Summary: Solution files and make files updated\\n    git-svn info:\\n    Last Changed Rev: 7720317\\n\\nOther info:\\n    Build by: zomb-ml-platform-msk\\n    Top src dir: /Users/zomb-ml-platform-msk/go-agent-20.1.0/pipelines/BuildMaster/catboost.git\\n    Top build dir: /Users/zomb-ml-platform-msk/.ya/build\\n    Hostname: zomb-ml-platform-msk-macmini.zombie.yandex.net\\n    Host information: \\n        Darwin zomb-ml-platform-msk-macmini.zombie.yandex.net 17.6.0 Darwin Kernel Version 17.6.0: Tue May  8 15:22:16 PDT 2018; root:xnu-4570.61.1~1/RELEASE_X86_64 x86_64\\n\\n    ')\n",
      "('class_params', '{\"classes_count\":0,\"class_names\":[\"acceptation_manuelle\",\"conditions_speciales\",\"refus_GM\"],\"class_to_label\":[0,1,2],\"class_label_type\":\"String\"}')\n",
      "('output_options', '{\"name\":\"experiment\",\"verbose\":10,\"test_error_log\":\"test_error.tsv\",\"json_log\":\"catboost_training.json\",\"result_model_file\":\"model\",\"roc_file\":\"\",\"eval_file_name\":\"\",\"use_best_model\":true,\"allow_writing_files\":true,\"prediction_type\":[\"RawFormulaVal\"],\"fstr_internal_file\":\"\",\"output_columns\":[\"SampleId\",\"RawFormulaVal\",\"Label\"],\"snapshot_interval\":600,\"time_left_log\":\"time_left.tsv\",\"fstr_type\":\"FeatureImportance\",\"profile_log\":\"catboost_profile.log\",\"train_dir\":\"catboost_info\",\"learn_error_log\":\"learn_error.tsv\",\"training_options_file\":\"\",\"snapshot_file\":\"experiment.cbsnapshot\",\"save_snapshot\":false,\"model_format\":[\"CatboostBinary\"],\"final_feature_calcer_computation_mode\":\"Default\",\"metric_period\":1,\"output_borders\":\"\",\"final_ctr_computation_mode\":\"Default\",\"best_model_min_trees\":1,\"fstr_regular_file\":\"\"}')\n",
      "('model_guid', '323da8f8-634b549-9b315cf3-944b5d16')\n",
      "('params', '{\"detailed_profile\":false,\"boosting_options\":{\"model_shrink_mode\":\"Constant\",\"approx_on_full_history\":false,\"fold_len_multiplier\":2,\"fold_permutation_block\":0,\"posterior_sampling\":false,\"boosting_type\":\"Plain\",\"iterations\":1000,\"model_shrink_rate\":0,\"boost_from_average\":false,\"od_config\":{\"wait_iterations\":20,\"type\":\"Iter\",\"stop_pvalue\":0},\"permutation_count\":4,\"learning_rate\":0.1000000015},\"metadata\":{},\"metrics\":{\"eval_metric\":{\"type\":\"MultiClass\",\"params\":{}},\"objective_metric\":{\"type\":\"MultiClass\",\"params\":{}},\"custom_metrics\":[]},\"cat_feature_params\":{\"store_all_simple_ctr\":false,\"ctr_leaf_count_limit\":18446744073709551615,\"simple_ctrs\":[{\"ctr_binarization\":{\"border_count\":15,\"border_type\":\"Uniform\"},\"target_binarization\":{\"border_count\":2,\"border_type\":\"MinEntropy\"},\"ctr_type\":\"Borders\",\"priors\":[[0,1],[0.5,1],[1,1]],\"prior_estimation\":\"No\"},{\"ctr_binarization\":{\"border_count\":15,\"border_type\":\"Uniform\"},\"ctr_type\":\"Counter\",\"priors\":[[0,1]],\"prior_estimation\":\"No\"}],\"counter_calc_method\":\"SkipTest\",\"one_hot_max_size\":200,\"max_ctr_complexity\":4,\"target_binarization\":{\"border_count\":1,\"border_type\":\"MinEntropy\"},\"combinations_ctrs\":[{\"ctr_binarization\":{\"border_count\":15,\"border_type\":\"Uniform\"},\"target_binarization\":{\"border_count\":2,\"border_type\":\"MinEntropy\"},\"ctr_type\":\"Borders\",\"priors\":[[0,1],[0.5,1],[1,1]],\"prior_estimation\":\"No\"},{\"ctr_binarization\":{\"border_count\":15,\"border_type\":\"Uniform\"},\"ctr_type\":\"Counter\",\"priors\":[[0,1]],\"prior_estimation\":\"No\"}],\"per_feature_ctrs\":{}},\"logging_level\":\"Verbose\",\"tree_learner_options\":{\"sampling_frequency\":\"PerTree\",\"model_size_reg\":0.5,\"bayesian_matrix_reg\":0.1000000015,\"score_function\":\"Cosine\",\"monotone_constraints\":{},\"leaf_estimation_method\":\"Newton\",\"dev_score_calc_obj_block_size\":5000000,\"grow_policy\":\"SymmetricTree\",\"min_data_in_leaf\":1,\"random_strength\":1,\"dev_efb_max_buckets\":1024,\"l2_leaf_reg\":3,\"bootstrap\":{\"bagging_temperature\":1,\"type\":\"Bayesian\"},\"depth\":8,\"max_leaves\":256,\"leaf_estimation_backtracking\":\"AnyImprovement\",\"rsm\":1,\"dev_leafwise_approxes\":false,\"leaf_estimation_iterations\":1,\"penalties\":{\"first_feature_use_penalties\":{},\"per_object_feature_penalties\":{},\"feature_weights\":{},\"penalties_coefficient\":1},\"sparse_features_conflict_fraction\":0},\"loss_function\":{\"type\":\"MultiClass\",\"params\":{}},\"data_processing_options\":{\"per_float_feature_quantization\":{},\"has_time\":false,\"dev_default_value_fraction_for_sparse\":0.8299999833,\"allow_const_label\":false,\"class_weights\":[],\"target_border\":null,\"class_names\":[\"acceptation_manuelle\",\"conditions_speciales\",\"refus_GM\"],\"dev_leafwise_scoring\":false,\"float_features_binarization\":{\"border_count\":254,\"dev_max_subset_size_for_build_borders\":200000,\"nan_mode\":\"Min\",\"border_type\":\"GreedyLogSum\"},\"auto_class_weights\":\"None\",\"dev_sparse_array_indexing\":\"Indices\",\"classes_count\":0,\"dev_group_features\":false,\"ignored_features\":[],\"text_processing_options\":{\"dictionaries\":[{\"start_token_id\":\"0\",\"occurrence_lower_bound\":\"5\",\"skip_step\":\"0\",\"end_of_word_token_policy\":\"Insert\",\"token_level_type\":\"Word\",\"end_of_sentence_token_policy\":\"Skip\",\"gram_order\":\"2\",\"max_dictionary_size\":\"50000\",\"dictionary_id\":\"BiGram\"},{\"start_token_id\":\"0\",\"occurrence_lower_bound\":\"5\",\"skip_step\":\"0\",\"end_of_word_token_policy\":\"Insert\",\"token_level_type\":\"Word\",\"end_of_sentence_token_policy\":\"Skip\",\"gram_order\":\"1\",\"max_dictionary_size\":\"50000\",\"dictionary_id\":\"Word\"}],\"feature_processing\":{\"default\":[{\"dictionaries_names\":[\"BiGram\",\"Word\"],\"feature_calcers\":[\"BoW\"],\"tokenizers_names\":[\"Space\"]},{\"dictionaries_names\":[\"Word\"],\"feature_calcers\":[\"NaiveBayes\"],\"tokenizers_names\":[\"Space\"]}]},\"tokenizers\":[{\"number_token\":\"🔢\",\"skip_empty\":\"1\",\"number_process_policy\":\"LeaveAsIs\",\"tokenizer_id\":\"Space\",\"token_types\":[\"Number\",\"Unknown\",\"Word\"],\"delimiter\":\" \",\"languages\":[],\"lemmatizing\":\"0\",\"split_by_set\":\"0\",\"lowercasing\":\"0\",\"subtokens_policy\":\"SingleToken\",\"separator_type\":\"ByDelimiter\"}]}},\"task_type\":\"CPU\",\"flat_params\":{\"od_wait\":20,\"od_type\":\"Iter\",\"iterations\":1000,\"verbose\":10,\"one_hot_max_size\":200,\"loss_function\":\"MultiClass\",\"depth\":8,\"random_seed\":2016,\"learning_rate\":0.1},\"system_options\":{\"thread_count\":4,\"file_with_hosts\":\"hosts.txt\",\"node_type\":\"SingleHost\",\"used_ram_limit\":\"\",\"node_port\":0},\"random_seed\":2016}')\n"
     ]
    }
   ],
   "source": [
    "# iterate metadata key-values\n",
    "for i in clf.get_metadata().items():\n",
    "    print(i)"
   ]
  },
  {
   "cell_type": "code",
   "execution_count": 7,
   "id": "8405df9c",
   "metadata": {},
   "outputs": [
    {
     "name": "stdout",
     "output_type": "stream",
     "text": [
      "Default scale and bias: (1.0, [0.0, 0.0, 0.0])\n"
     ]
    }
   ],
   "source": [
    "print(\"Default scale and bias: \" + str(clf.get_scale_and_bias()))"
   ]
  },
  {
   "cell_type": "code",
   "execution_count": 15,
   "id": "f5bba034",
   "metadata": {},
   "outputs": [],
   "source": [
    "with open('data/X-nov-dec.pkl', 'rb') as f:\n",
    "    X = pickle.load(f)"
   ]
  },
  {
   "cell_type": "code",
   "execution_count": 22,
   "id": "b9a530b4",
   "metadata": {},
   "outputs": [],
   "source": [
    "cat_features = ['caseData_case_CLIENT_PROCESS',\n",
    "                'caseData_case_PRODUCT_NAME',\n",
    "                'caseData_case_CHANNEL', 'caseData_life_GENDER', 'caseData_life_TITLE',\n",
    "                'caseData_life_SMOKED_BQ', 'caseData_case_INSTITUTION_CODE',\n",
    "                'caseData_EQUIPMENT_CONTRACT0_OTHER_CONTRACT_RISK_NAME', 'caseData_EQUIPMENT_CONTRACT0_NAME',\n",
    "                'caseData_EQUIPMENT_CONTRACT0_OTHER_CONTRACT_CAUSE',\n",
    "                'caseData_EQUIPMENT_CONTRACT0_OTHER_CONTRACT_RISK_TYPE',\n",
    "                'caseData_EQUIPMENT_CONTRACT0_OTHER_CONTRACT_STATUS',\n",
    "                'caseData_EQUIPMENT_CONTRACT0_OTHER_CONTRACT_STATUS_TITLE', 'caseData_life_RISK_TYPES',\n",
    "                'caseData_life_UNDERWRITING_APPLICATION', 'caseData_case_CERAMIKPRO_FRUCTIPRO',\n",
    "                'caseData_life_aggDC_PTIA_CAUSE', 'caseData_life_aggDC_PTIA_RISK_NAME',\n",
    "                'caseData_life_BLOOD_PRESSURE', 'caseData_life_UNDER_TREATMENT',\n",
    "                'underwriting_life_unansweredQuestions', 'caseData_case_INSTITUTION', 'Q_PY_BQ1_', 'Q_PY_BQ2_',\n",
    "                'Q_PY_BQ3_', 'Q_PY_BQ4_', 'Q_ADD_MED_INFO_BQ1_', 'Q_ADD_MED_INFO_BQ2_', 'Q_ADD_INFO_MED_BQ3_',\n",
    "                'Q_ADD_INFO_MED_BQ4_', 'Q_OVER10Y_SEC1_BQ1_', 'Q_OVER10Y_SEC1_BQ2_', 'Q_OVER10Y_SEC1_BQ3_',\n",
    "                'Q_OVER10Y_SEC1_BQ4_', 'Q_OVER10Y_SEC1_BQ5_', 'Q_OVER10Y_SEC2BQ1_', 'Q_OVER10Y_SEC2BQ2_', 'Q_OVER10Y_SEC2BQ3_',\n",
    "                'Q_OVER10Y_SEC2BQ4_', 'Q_OVER10Y_SEC2BQ5_', 'Q_OVER10Y_SEC2BQ6_', 'Q_OVER10Y_SEC2BQ7_', 'Q_OVER10Y_SEC2BQ8_',\n",
    "                'Q_OVER10Y_SEC2BQ9_', 'Q_OVER10Y_SEC2BQ10_']"
   ]
  },
  {
   "cell_type": "code",
   "execution_count": 25,
   "id": "4e66ac9d",
   "metadata": {},
   "outputs": [],
   "source": [
    "clf.save_model('models/veltios_model.json', format='json') # on peut exporter catboost en json"
   ]
  },
  {
   "cell_type": "code",
   "execution_count": 27,
   "id": "a59b87a9",
   "metadata": {},
   "outputs": [],
   "source": [
    "import json"
   ]
  },
  {
   "cell_type": "code",
   "execution_count": 28,
   "id": "2b0374fd",
   "metadata": {},
   "outputs": [],
   "source": [
    "with open('models/veltios_model.json', 'r') as f:\n",
    "    clf_dict = json.load(f)"
   ]
  },
  {
   "cell_type": "code",
   "execution_count": 29,
   "id": "c335926e",
   "metadata": {},
   "outputs": [
    {
     "data": {
      "text/plain": [
       "dict_keys(['ctr_data', 'features_info', 'model_info', 'oblivious_trees', 'scale_and_bias'])"
      ]
     },
     "execution_count": 29,
     "metadata": {},
     "output_type": "execute_result"
    }
   ],
   "source": [
    "clf_dict.keys()"
   ]
  },
  {
   "cell_type": "code",
   "execution_count": 38,
   "id": "fe62dc11",
   "metadata": {},
   "outputs": [
    {
     "name": "stdout",
     "output_type": "stream",
     "text": [
      "210\n"
     ]
    }
   ],
   "source": [
    "n_trees = len(clf_dict['oblivious_trees'])\n",
    "print(n_trees)"
   ]
  },
  {
   "cell_type": "code",
   "execution_count": 39,
   "id": "bf66fc68",
   "metadata": {},
   "outputs": [
    {
     "name": "stdout",
     "output_type": "stream",
     "text": [
      "7\n"
     ]
    }
   ],
   "source": [
    "max_depth = clf_dict['model_info']['params']['tree_learner_options']['depth']\n",
    "print(max_depth)"
   ]
  },
  {
   "cell_type": "code",
   "execution_count": 41,
   "id": "c0f929f5",
   "metadata": {},
   "outputs": [
    {
     "data": {
      "text/plain": [
       "[4346,\n",
       " 0,\n",
       " 1,\n",
       " 0,\n",
       " 354,\n",
       " 1,\n",
       " 0,\n",
       " 0,\n",
       " 43,\n",
       " 0,\n",
       " 0,\n",
       " 0,\n",
       " 23,\n",
       " 0,\n",
       " 0,\n",
       " 0,\n",
       " 17,\n",
       " 0,\n",
       " 2,\n",
       " 0,\n",
       " 1,\n",
       " 1,\n",
       " 4,\n",
       " 4,\n",
       " 0,\n",
       " 0,\n",
       " 0,\n",
       " 0,\n",
       " 0,\n",
       " 0,\n",
       " 0,\n",
       " 1,\n",
       " 48,\n",
       " 0,\n",
       " 1,\n",
       " 0,\n",
       " 46,\n",
       " 0,\n",
       " 1,\n",
       " 0,\n",
       " 4,\n",
       " 0,\n",
       " 0,\n",
       " 0,\n",
       " 9,\n",
       " 0,\n",
       " 0,\n",
       " 0,\n",
       " 0,\n",
       " 0,\n",
       " 0,\n",
       " 0,\n",
       " 0,\n",
       " 0,\n",
       " 0,\n",
       " 0,\n",
       " 0,\n",
       " 0,\n",
       " 0,\n",
       " 0,\n",
       " 0,\n",
       " 0,\n",
       " 0,\n",
       " 0,\n",
       " 338,\n",
       " 0,\n",
       " 407,\n",
       " 0,\n",
       " 533,\n",
       " 1504,\n",
       " 282,\n",
       " 158,\n",
       " 3,\n",
       " 0,\n",
       " 59,\n",
       " 0,\n",
       " 3,\n",
       " 27,\n",
       " 107,\n",
       " 92,\n",
       " 15,\n",
       " 0,\n",
       " 821,\n",
       " 0,\n",
       " 25,\n",
       " 92,\n",
       " 540,\n",
       " 555,\n",
       " 0,\n",
       " 0,\n",
       " 114,\n",
       " 0,\n",
       " 0,\n",
       " 6,\n",
       " 261,\n",
       " 331,\n",
       " 7,\n",
       " 0,\n",
       " 25,\n",
       " 0,\n",
       " 4,\n",
       " 21,\n",
       " 72,\n",
       " 22,\n",
       " 0,\n",
       " 0,\n",
       " 3,\n",
       " 0,\n",
       " 1,\n",
       " 8,\n",
       " 24,\n",
       " 14,\n",
       " 0,\n",
       " 0,\n",
       " 72,\n",
       " 0,\n",
       " 0,\n",
       " 1,\n",
       " 210,\n",
       " 129,\n",
       " 0,\n",
       " 0,\n",
       " 11,\n",
       " 0,\n",
       " 0,\n",
       " 0,\n",
       " 57,\n",
       " 91]"
      ]
     },
     "execution_count": 41,
     "metadata": {},
     "output_type": "execute_result"
    }
   ],
   "source": [
    "clf_dict['oblivious_trees'][0]['leaf_weights']"
   ]
  },
  {
   "cell_type": "code",
   "execution_count": 42,
   "id": "2c8f3b18",
   "metadata": {},
   "outputs": [
    {
     "data": {
      "text/plain": [
       "128"
      ]
     },
     "execution_count": 42,
     "metadata": {},
     "output_type": "execute_result"
    }
   ],
   "source": [
    "len(clf_dict['oblivious_trees'][0]['leaf_weights'])"
   ]
  },
  {
   "cell_type": "code",
   "execution_count": 45,
   "id": "8a8c9659",
   "metadata": {},
   "outputs": [
    {
     "data": {
      "text/plain": [
       "384"
      ]
     },
     "execution_count": 45,
     "metadata": {},
     "output_type": "execute_result"
    }
   ],
   "source": [
    "len(clf_dict['oblivious_trees'][0]['leaf_values'])"
   ]
  },
  {
   "cell_type": "code",
   "execution_count": null,
   "id": "599eab37",
   "metadata": {},
   "outputs": [],
   "source": []
  }
 ],
 "metadata": {
  "kernelspec": {
   "display_name": "Python 3",
   "language": "python",
   "name": "python3"
  },
  "language_info": {
   "codemirror_mode": {
    "name": "ipython",
    "version": 3
   },
   "file_extension": ".py",
   "mimetype": "text/x-python",
   "name": "python",
   "nbconvert_exporter": "python",
   "pygments_lexer": "ipython3",
   "version": "3.9.1"
  }
 },
 "nbformat": 4,
 "nbformat_minor": 5
}
